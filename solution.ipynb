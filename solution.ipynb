{
 "cells": [
  {
   "cell_type": "markdown",
   "metadata": {},
   "source": [
    "## Домашнее здание №2 / Link Prediction\n",
    "\n",
    "### Яронская Любовь / 394\n",
    "\n",
    "----\n",
    "План выполнения домашнего задания:\n",
    "\n",
    "1. Краткий обзор исходных данных\n",
    "2. Генерация дополнительных данных\n",
    "3. Создание матрицы признаков для ребер\n",
    "4. Настройка модели и валидация качества модели\n",
    "5. Отправка результатов в контест на Kaggle"
   ]
  },
  {
   "cell_type": "markdown",
   "metadata": {},
   "source": [
    "----\n",
    "\n",
    "В данном домашнем задании вам предстоит построить классификатор, который бы предсказывал наличие или отсутствия ребра в графе между двумя вершинами. Никакой дополнительной информации о вершинах, кроме ее соседей нет, поэтому вам придется создавать вектор признаков для каждой пары вершин на основе топологии графа.\n",
    "\n",
    "Вершины графа - товары интернет магазина, наличие ребра символизируют о высокой частоте совместной покупки данных товаров вместе. Например если в нашем графе присутствую вершины молоко и хлеб и данные товары часто покупаются вместе, то между данными вершинами будет ребро. Если в нашем графе есть вершины молоко и кроссовки, то между данными вершинами ребра не будет. \n",
    "\n",
    "В данном датасете уровень относительной частоты по которому решается есть ребро между вершинами или его нет был определен за нас. Сам датасет был получен краулингом сайта Amazon.com в марте 2003 года, парсилась секция \"Люди которые купили данный продукт, также преобретали это...\"\n",
    "\n",
    "Мотивация данного задания: Расширить список блока рекомендаций, за счет товаров которые с высокой вероятность могут оказаться в одной корзине покупателя.\n",
    "\n",
    "----\n",
    "Для создания модели и работы с данными мы будем использовать пакет GraphLab, структуры данных SFrame и SGraph идеально подходят для работы с графами. Распределенное хранение данных и применения функций для расчета метрик отдельных вершин сильно облегчают работу с графом.\n",
    "\n",
    "Библиотека платная, но лицензия для академических целей получается в течении 5 минут, чтобы установить пакет следуйте шагам на сайте - https://turi.com/download/academic.html\n",
    "\n",
    "----"
   ]
  },
  {
   "cell_type": "markdown",
   "metadata": {},
   "source": [
    "Описание файлов:\n",
    "\n",
    "1. the_graph.csv - файл содержащий ребра графа, две колонки: src,dst \n",
    "2. suspicions.csv - файл с ребрами, графа. Для данных ребер неизвестно присутствует ли оно в графе или нет.\n",
    "\n",
    "Описание целевой метрики - в качестве целевой метрики будем использовать ROC AUC http://mlwiki.org/index.php/ROC_Analysis"
   ]
  },
  {
   "cell_type": "markdown",
   "metadata": {},
   "source": [
    "----"
   ]
  },
  {
   "cell_type": "code",
   "execution_count": 3,
   "metadata": {
    "collapsed": false
   },
   "outputs": [],
   "source": [
    "import graphlab as gl\n",
    "import numpy as np\n",
    "import pandas as pd\n",
    "import matplotlib.pyplot as plt\n",
    "from graphlab import degree_counting\n",
    "import graphlab.aggregate as agg\n",
    "\n",
    "gl.canvas.set_target('ipynb')"
   ]
  },
  {
   "cell_type": "markdown",
   "metadata": {},
   "source": [
    "### 1. Краткий обзор исходных данных - 10 Баллов\n",
    "\n",
    "Загрузим данные, найдем ряд базовых статистик:\n",
    "\n",
    "1. Количество вершин и ребер\n",
    "2. Распределение степеней вершин графа (График log - log)\n",
    "3. Плотность графа\n",
    "4. Диаметр графа\n",
    "5. Количество треугольников в графе\n",
    "6. Краткие выводы о данных.\n",
    "7. БОНУСЫ - сделайте красивую визулизацию или расчет дополнительных метрик с выводами и вы получите дополнительные баллы за задание"
   ]
  },
  {
   "cell_type": "code",
   "execution_count": 4,
   "metadata": {
    "collapsed": false
   },
   "outputs": [],
   "source": [
    "edges = gl.SFrame.read_csv('the_graph.csv', delimiter=',', verbose=False)"
   ]
  },
  {
   "cell_type": "code",
   "execution_count": 5,
   "metadata": {
    "collapsed": true
   },
   "outputs": [],
   "source": [
    "g = gl.SGraph().add_edges(edges, src_field='src', dst_field='dst')"
   ]
  },
  {
   "cell_type": "markdown",
   "metadata": {},
   "source": [
    "1. Количество вершин и ребер"
   ]
  },
  {
   "cell_type": "code",
   "execution_count": 6,
   "metadata": {
    "collapsed": false
   },
   "outputs": [
    {
     "name": "stdout",
     "output_type": "stream",
     "text": [
      "Number of vertices = 262111\n",
      "Number of edges = 1384871\n"
     ]
    }
   ],
   "source": [
    "vert_edgs = g.summary()\n",
    "\n",
    "print 'Number of vertices = {0}'.format(vert_edgs['num_vertices'])\n",
    "print 'Number of edges = {0}'.format(vert_edgs['num_edges'])"
   ]
  },
  {
   "cell_type": "markdown",
   "metadata": {},
   "source": [
    "Выполните пункты 2 - 6. В пункте 6 напишите краткие выводы."
   ]
  },
  {
   "cell_type": "markdown",
   "metadata": {},
   "source": [
    "    2. Распределение степеней"
   ]
  },
  {
   "cell_type": "code",
   "execution_count": 7,
   "metadata": {
    "collapsed": false
   },
   "outputs": [
    {
     "data": {
      "image/png": "[encoded data removed]",
      "text/plain": [
       "<matplotlib.figure.Figure at 0x7f11902f6590>"
      ]
     },
     "metadata": {},
     "output_type": "display_data"
    }
   ],
   "source": [
    "deg = degree_counting.create(g)\n",
    "g = deg['graph']\n",
    "degrees = g.vertices['total_degree']\n",
    "\n",
    "plt.xscale('log')\n",
    "plt.yscale('log')\n",
    "plt.hist(degrees, bins=np.arange(degrees.min(), degrees.max()+1))\n",
    "\n",
    "plt.show()"
   ]
  },
  {
   "cell_type": "markdown",
   "metadata": {},
   "source": [
    "    3. Плотность графа"
   ]
  },
  {
   "cell_type": "code",
   "execution_count": 29,
   "metadata": {
    "collapsed": false
   },
   "outputs": [
    {
     "name": "stdout",
     "output_type": "stream",
     "text": [
      "Density: 4.03153541186e-05\n"
     ]
    }
   ],
   "source": [
    "V = vert_edgs['num_vertices']\n",
    "E = vert_edgs['num_edges']\n",
    "\n",
    "print 'Density: {}'.format(2.*E/(V*(V-1)))"
   ]
  },
  {
   "cell_type": "markdown",
   "metadata": {},
   "source": [
    "    4. Диаметр графа"
   ]
  },
  {
   "cell_type": "code",
   "execution_count": 30,
   "metadata": {
    "collapsed": false
   },
   "outputs": [
    {
     "data": {
      "text/html": [
       "<pre>+----------------------------+</pre>"
      ],
      "text/plain": [
       "+----------------------------+"
      ]
     },
     "metadata": {},
     "output_type": "display_data"
    },
    {
     "data": {
      "text/html": [
       "<pre>| Number of vertices updated |</pre>"
      ],
      "text/plain": [
       "| Number of vertices updated |"
      ]
     },
     "metadata": {},
     "output_type": "display_data"
    },
    {
     "data": {
      "text/html": [
       "<pre>+----------------------------+</pre>"
      ],
      "text/plain": [
       "+----------------------------+"
      ]
     },
     "metadata": {},
     "output_type": "display_data"
    },
    {
     "data": {
      "text/html": [
       "<pre>| 458                        |</pre>"
      ],
      "text/plain": [
       "| 458                        |"
      ]
     },
     "metadata": {},
     "output_type": "display_data"
    },
    {
     "data": {
      "text/html": [
       "<pre>| 28401                      |</pre>"
      ],
      "text/plain": [
       "| 28401                      |"
      ]
     },
     "metadata": {},
     "output_type": "display_data"
    },
    {
     "data": {
      "text/html": [
       "<pre>| 269085                     |</pre>"
      ],
      "text/plain": [
       "| 269085                     |"
      ]
     },
     "metadata": {},
     "output_type": "display_data"
    },
    {
     "data": {
      "text/html": [
       "<pre>| 199067                     |</pre>"
      ],
      "text/plain": [
       "| 199067                     |"
      ]
     },
     "metadata": {},
     "output_type": "display_data"
    },
    {
     "data": {
      "text/html": [
       "<pre>| 52142                      |</pre>"
      ],
      "text/plain": [
       "| 52142                      |"
      ]
     },
     "metadata": {},
     "output_type": "display_data"
    },
    {
     "data": {
      "text/html": [
       "<pre>| 8437                       |</pre>"
      ],
      "text/plain": [
       "| 8437                       |"
      ]
     },
     "metadata": {},
     "output_type": "display_data"
    },
    {
     "data": {
      "text/html": [
       "<pre>| 817                        |</pre>"
      ],
      "text/plain": [
       "| 817                        |"
      ]
     },
     "metadata": {},
     "output_type": "display_data"
    },
    {
     "data": {
      "text/html": [
       "<pre>| 48                         |</pre>"
      ],
      "text/plain": [
       "| 48                         |"
      ]
     },
     "metadata": {},
     "output_type": "display_data"
    },
    {
     "data": {
      "text/html": [
       "<pre>| 3                          |</pre>"
      ],
      "text/plain": [
       "| 3                          |"
      ]
     },
     "metadata": {},
     "output_type": "display_data"
    },
    {
     "data": {
      "text/html": [
       "<pre>| 0                          |</pre>"
      ],
      "text/plain": [
       "| 0                          |"
      ]
     },
     "metadata": {},
     "output_type": "display_data"
    },
    {
     "data": {
      "text/html": [
       "<pre>+----------------------------+</pre>"
      ],
      "text/plain": [
       "+----------------------------+"
      ]
     },
     "metadata": {},
     "output_type": "display_data"
    },
    {
     "ename": "ValueError",
     "evalue": "Destination vertex id 98 not found",
     "output_type": "error",
     "traceback": [
      "\u001b[0;31m---------------------------------------------------------------------------\u001b[0m",
      "\u001b[0;31mValueError\u001b[0m                                Traceback (most recent call last)",
      "\u001b[0;32m<ipython-input-30-ac7703341b06>\u001b[0m in \u001b[0;36m<module>\u001b[0;34m()\u001b[0m\n\u001b[1;32m      4\u001b[0m \u001b[0msp_sframe\u001b[0m \u001b[0;34m=\u001b[0m \u001b[0msp\u001b[0m\u001b[0;34m[\u001b[0m\u001b[0;34m'distance'\u001b[0m\u001b[0;34m]\u001b[0m\u001b[0;34m\u001b[0m\u001b[0m\n\u001b[1;32m      5\u001b[0m \u001b[0msp_graph\u001b[0m \u001b[0;34m=\u001b[0m \u001b[0msp\u001b[0m\u001b[0;34m[\u001b[0m\u001b[0;34m'graph'\u001b[0m\u001b[0;34m]\u001b[0m\u001b[0;34m\u001b[0m\u001b[0m\n\u001b[0;32m----> 6\u001b[0;31m \u001b[0mpath\u001b[0m \u001b[0;34m=\u001b[0m \u001b[0msp\u001b[0m\u001b[0;34m.\u001b[0m\u001b[0mget_path\u001b[0m\u001b[0;34m(\u001b[0m\u001b[0;34m'98'\u001b[0m\u001b[0;34m)\u001b[0m\u001b[0;34m\u001b[0m\u001b[0m\n\u001b[0m",
      "\u001b[0;32m/usr/local/lib/python2.7/dist-packages/graphlab/toolkits/graph_analytics/shortest_path.pyc\u001b[0m in \u001b[0;36mget_path\u001b[0;34m(self, vid, show, highlight, **kwargs)\u001b[0m\n\u001b[1;32m    153\u001b[0m         \u001b[0mpath_query_table\u001b[0m \u001b[0;34m=\u001b[0m \u001b[0mself\u001b[0m\u001b[0;34m.\u001b[0m\u001b[0m_path_query_table\u001b[0m\u001b[0;34m\u001b[0m\u001b[0m\n\u001b[1;32m    154\u001b[0m         \u001b[0;32mif\u001b[0m \u001b[0;32mnot\u001b[0m \u001b[0mvid\u001b[0m \u001b[0;32min\u001b[0m \u001b[0mpath_query_table\u001b[0m\u001b[0;34m[\u001b[0m\u001b[0;34m'vid'\u001b[0m\u001b[0;34m]\u001b[0m\u001b[0;34m:\u001b[0m\u001b[0;34m\u001b[0m\u001b[0m\n\u001b[0;32m--> 155\u001b[0;31m             \u001b[0;32mraise\u001b[0m \u001b[0mValueError\u001b[0m\u001b[0;34m(\u001b[0m\u001b[0;34m'Destination vertex id '\u001b[0m \u001b[0;34m+\u001b[0m \u001b[0mstr\u001b[0m\u001b[0;34m(\u001b[0m\u001b[0mvid\u001b[0m\u001b[0;34m)\u001b[0m \u001b[0;34m+\u001b[0m \u001b[0;34m' not found'\u001b[0m\u001b[0;34m)\u001b[0m\u001b[0;34m\u001b[0m\u001b[0m\n\u001b[0m\u001b[1;32m    156\u001b[0m \u001b[0;34m\u001b[0m\u001b[0m\n\u001b[1;32m    157\u001b[0m         \u001b[0mrecord\u001b[0m \u001b[0;34m=\u001b[0m \u001b[0mpath_query_table\u001b[0m\u001b[0;34m[\u001b[0m\u001b[0mpath_query_table\u001b[0m\u001b[0;34m[\u001b[0m\u001b[0;34m'vid'\u001b[0m\u001b[0;34m]\u001b[0m \u001b[0;34m==\u001b[0m \u001b[0mvid\u001b[0m\u001b[0;34m]\u001b[0m\u001b[0;34m[\u001b[0m\u001b[0;36m0\u001b[0m\u001b[0;34m]\u001b[0m\u001b[0;34m\u001b[0m\u001b[0m\n",
      "\u001b[0;31mValueError\u001b[0m: Destination vertex id 98 not found"
     ]
    }
   ],
   "source": [
    "from graphlab import shortest_path\n",
    "\n",
    "sp = shortest_path.create(g, source_vid=123)\n",
    "sp_sframe = sp['distance']\n",
    "sp_graph = sp['graph']\n",
    "path = sp.get_path('98')"
   ]
  },
  {
   "cell_type": "markdown",
   "metadata": {},
   "source": [
    "    5. Количество треугольников"
   ]
  },
  {
   "cell_type": "code",
   "execution_count": null,
   "metadata": {
    "collapsed": true
   },
   "outputs": [],
   "source": []
  },
  {
   "cell_type": "markdown",
   "metadata": {},
   "source": [
    "    6. Краткие выводы о данных"
   ]
  },
  {
   "cell_type": "code",
   "execution_count": null,
   "metadata": {
    "collapsed": true
   },
   "outputs": [],
   "source": []
  },
  {
   "cell_type": "markdown",
   "metadata": {},
   "source": [
    "----\n",
    "### 2. Генерация дополнительных данных - 20 Баллов\n",
    "\n",
    "Перед нами стоит задача создания модели классификации, которая в дальнейшем будет использоваться для повышения разнообразия блока рекомендаций. Для большинства моделей классификации требуется минимум 2 класса объектов - негативный и позитивный. Но у нас есть только граф, ребра которые в нем присутствуют это позитивные примеры. Получается, что у нас нет негативных примеров. \n",
    "\n",
    "Ответьте на 3 вопроса:\n",
    "\n",
    "1. Можем ли мы сами создать негативные примеры? Граф это описание связей между вершинами, если мы будем случайным образом выбирать две вершины и считать, что это ребро - негативный пример, имеет ли это смысл?\n",
    "2. Если мы решим сгенерировать негативные примеры, как должна быть устроена процедура генерации, чтобы обобщаяющая способность модели была наилучшей?\n",
    "3. Как зависит обобщающая способность модели от негативных примеров, которые мы ей покажем?"
   ]
  },
  {
   "cell_type": "markdown",
   "metadata": {},
   "source": []
  },
  {
   "cell_type": "markdown",
   "metadata": {},
   "source": [
    "------\n",
    "Создадим класс отрицательных примеров, сгенерировав его самым простым образом: берем две вершины, если ребро между ними отсутствует в графе, то это отрицательный пример.\n",
    "\n",
    "1. Попробуйте улучшить генерацию отрицательных примеров"
   ]
  },
  {
   "cell_type": "code",
   "execution_count": 8,
   "metadata": {
    "collapsed": false
   },
   "outputs": [
    {
     "name": "stdout",
     "output_type": "stream",
     "text": [
      "1384871\n"
     ]
    }
   ],
   "source": [
    "# read in existing edges\n",
    "graph_file = open('the_graph.csv')\n",
    "graph_file.readline() # first line is column names\n",
    "existing_edges = set()\n",
    "\n",
    "for x in graph_file:\n",
    "    start, end = x.split(',')\n",
    "    start, end = int(start), int(end)\n",
    "    existing_edges.add((start, end))\n",
    "    \n",
    "print len(existing_edges)"
   ]
  },
  {
   "cell_type": "code",
   "execution_count": 9,
   "metadata": {
    "collapsed": false
   },
   "outputs": [
    {
     "name": "stdout",
     "output_type": "stream",
     "text": [
      "1384839\n"
     ]
    }
   ],
   "source": [
    "# generating negative examples, so that class balance is 50/50 \n",
    "generated_nonexisting_edges = []\n",
    "counter = 0\n",
    "while True:\n",
    "    start = np.random.randint(0, vert_edgs['num_vertices'])\n",
    "    end = np.random.randint(0, vert_edgs['num_vertices'])\n",
    "    \n",
    "    if (start != end) & ((start, end) not in existing_edges):\n",
    "        generated_nonexisting_edges.append([start, end, 0])\n",
    "        \n",
    "    counter += 1\n",
    "    if counter == vert_edgs['num_edges']:\n",
    "        break\n",
    "\n",
    "print len(generated_nonexisting_edges)"
   ]
  },
  {
   "cell_type": "code",
   "execution_count": 10,
   "metadata": {
    "collapsed": false
   },
   "outputs": [],
   "source": [
    "# create SFrame with negative examples\n",
    "generated_nonexisting_edges = pd.DataFrame(data=generated_nonexisting_edges, columns=['src', 'dst', 'class'])\n",
    "generated_nonexisting_edges = gl.SFrame(data=generated_nonexisting_edges)"
   ]
  },
  {
   "cell_type": "code",
   "execution_count": 11,
   "metadata": {
    "collapsed": true
   },
   "outputs": [],
   "source": [
    "# add target function to the original dataset \n",
    "edges['class'] = [1]*edges.shape[0]"
   ]
  },
  {
   "cell_type": "code",
   "execution_count": 12,
   "metadata": {
    "collapsed": false
   },
   "outputs": [],
   "source": [
    "# add negative examples to the main data and shuffle\n",
    "edges = edges.append(generated_nonexisting_edges)\n",
    "edges = gl.cross_validation.shuffle(edges)"
   ]
  },
  {
   "cell_type": "code",
   "execution_count": 13,
   "metadata": {
    "collapsed": false
   },
   "outputs": [],
   "source": [
    "# update our graph g with fake edges\n",
    "g = gl.SGraph().add_edges(edges, src_field='src', dst_field='dst')"
   ]
  },
  {
   "cell_type": "code",
   "execution_count": 14,
   "metadata": {
    "collapsed": false
   },
   "outputs": [
    {
     "name": "stdout",
     "output_type": "stream",
     "text": [
      "Number of vertices = 262111\n",
      "Number of edges = 2769710\n"
     ]
    }
   ],
   "source": [
    "vert_edgs = g.summary()\n",
    "\n",
    "print 'Number of vertices = {0}'.format(vert_edgs['num_vertices'])\n",
    "print 'Number of edges = {0}'.format(vert_edgs['num_edges'])"
   ]
  },
  {
   "cell_type": "code",
   "execution_count": null,
   "metadata": {
    "collapsed": true
   },
   "outputs": [],
   "source": []
  },
  {
   "cell_type": "markdown",
   "metadata": {},
   "source": [
    "----\n",
    "### 3. Создание матрицы признаков для ребер - 30 Баллов\n",
    "\n",
    "Для создания модели классификации нам необходимы признаки, которые описывают каждое ребро. Вот базовый список того, что можно посчитать:\n",
    "\n",
    "Для вершин:\n",
    "\n",
    "1. Список и количество вершин, из которых ребра приходят в данную вершину\n",
    "2. Список и количество вершин, в которые ребра приходят из данной вершины\n",
    "3. Список и количество вершин связанных с данной вершиной\n",
    "4. Список и количество вершин, которые связанны с данной вершиной как входящими, так и исходящими ребрами\n",
    "\n",
    "Также можно добавить: вершины с которыми данная вершина образует треугольники, кластеризовать вершины и использовать кластер данной вершины и др.\n",
    "\n",
    "Придумайте дополнительные интересные признаки для вершин и вы получите дополнительный балл за домашнюю работу!"
   ]
  },
  {
   "cell_type": "code",
   "execution_count": 15,
   "metadata": {
    "collapsed": false
   },
   "outputs": [
    {
     "data": {
      "text/html": [
       "<div style=\"max-height:1000px;max-width:1500px;overflow:auto;\"><table frame=\"box\" rules=\"cols\">\n",
       "    <tr>\n",
       "        <th style=\"padding-left: 1em; padding-right: 1em; text-align: center\">id</th>\n",
       "    </tr>\n",
       "    <tr>\n",
       "        <td style=\"padding-left: 1em; padding-right: 1em; text-align: center; vertical-align: top\">5</td>\n",
       "    </tr>\n",
       "    <tr>\n",
       "        <td style=\"padding-left: 1em; padding-right: 1em; text-align: center; vertical-align: top\">7</td>\n",
       "    </tr>\n",
       "    <tr>\n",
       "        <td style=\"padding-left: 1em; padding-right: 1em; text-align: center; vertical-align: top\">8</td>\n",
       "    </tr>\n",
       "</table>\n",
       "[3 rows x 1 columns]<br/>\n",
       "</div>"
      ],
      "text/plain": [
       "Columns:\n",
       "\tid\tint\n",
       "\n",
       "Rows: 3\n",
       "\n",
       "Data:\n",
       "+----+\n",
       "| id |\n",
       "+----+\n",
       "| 5  |\n",
       "| 7  |\n",
       "| 8  |\n",
       "+----+\n",
       "[3 rows x 1 columns]"
      ]
     },
     "execution_count": 15,
     "metadata": {},
     "output_type": "execute_result"
    }
   ],
   "source": [
    "all_vertices = g.get_vertices()\n",
    "all_vertices.rename({\"__id\": \"id\"}) \n",
    "all_vertices.head(3)"
   ]
  },
  {
   "cell_type": "code",
   "execution_count": 16,
   "metadata": {
    "collapsed": false
   },
   "outputs": [
    {
     "name": "stdout",
     "output_type": "stream",
     "text": [
      "\n"
     ]
    }
   ],
   "source": [
    "# calculating each vertices in and out connections\n",
    "out_vertices = edges.groupby(\"src\", {\"out_vertices\": gl.aggregate.CONCAT(\"dst\")})\n",
    "out_vertices.rename({\"src\": \"id\"})\n",
    "\n",
    "in_vertices = edges.groupby(\"dst\", {\"in_vertices\": gl.aggregate.CONCAT(\"src\")})\n",
    "in_vertices.rename({\"dst\": \"id\"})\n",
    "print "
   ]
  },
  {
   "cell_type": "code",
   "execution_count": 17,
   "metadata": {
    "collapsed": false
   },
   "outputs": [
    {
     "data": {
      "text/html": [
       "<div style=\"max-height:1000px;max-width:1500px;overflow:auto;\"><table frame=\"box\" rules=\"cols\">\n",
       "    <tr>\n",
       "        <th style=\"padding-left: 1em; padding-right: 1em; text-align: center\">id</th>\n",
       "        <th style=\"padding-left: 1em; padding-right: 1em; text-align: center\">out_vertices</th>\n",
       "        <th style=\"padding-left: 1em; padding-right: 1em; text-align: center\">in_vertices</th>\n",
       "    </tr>\n",
       "    <tr>\n",
       "        <td style=\"padding-left: 1em; padding-right: 1em; text-align: center; vertical-align: top\">211023</td>\n",
       "        <td style=\"padding-left: 1em; padding-right: 1em; text-align: center; vertical-align: top\">[57637, 158723, 159269,<br>167594, 254497, 42873, ...</td>\n",
       "        <td style=\"padding-left: 1em; padding-right: 1em; text-align: center; vertical-align: top\">[248527, 62611, 20201,<br>196887, 209072, 233626, ...</td>\n",
       "    </tr>\n",
       "    <tr>\n",
       "        <td style=\"padding-left: 1em; padding-right: 1em; text-align: center; vertical-align: top\">79732</td>\n",
       "        <td style=\"padding-left: 1em; padding-right: 1em; text-align: center; vertical-align: top\">[52416, 79734, 84908,<br>207839, 211508, 170941, ...</td>\n",
       "        <td style=\"padding-left: 1em; padding-right: 1em; text-align: center; vertical-align: top\">[59638, 177610, 138065,<br>103248, 95872, 156391, ...</td>\n",
       "    </tr>\n",
       "    <tr>\n",
       "        <td style=\"padding-left: 1em; padding-right: 1em; text-align: center; vertical-align: top\">7899</td>\n",
       "        <td style=\"padding-left: 1em; padding-right: 1em; text-align: center; vertical-align: top\">[196207, 55715, 63347,<br>27312, 7896, 257163, ...</td>\n",
       "        <td style=\"padding-left: 1em; padding-right: 1em; text-align: center; vertical-align: top\">[6150, 8977, 15258,<br>27312, 193079, 7898, ...</td>\n",
       "    </tr>\n",
       "</table>\n",
       "[3 rows x 3 columns]<br/>\n",
       "</div>"
      ],
      "text/plain": [
       "Columns:\n",
       "\tid\tint\n",
       "\tout_vertices\tlist\n",
       "\tin_vertices\tlist\n",
       "\n",
       "Rows: 3\n",
       "\n",
       "Data:\n",
       "+--------+-------------------------------+-------------------------------+\n",
       "|   id   |          out_vertices         |          in_vertices          |\n",
       "+--------+-------------------------------+-------------------------------+\n",
       "| 211023 | [57637, 158723, 159269, 16... | [248527, 62611, 20201, 196... |\n",
       "| 79732  | [52416, 79734, 84908, 2078... | [59638, 177610, 138065, 10... |\n",
       "|  7899  | [196207, 55715, 63347, 273... | [6150, 8977, 15258, 27312,... |\n",
       "+--------+-------------------------------+-------------------------------+\n",
       "[3 rows x 3 columns]"
      ]
     },
     "execution_count": 17,
     "metadata": {},
     "output_type": "execute_result"
    }
   ],
   "source": [
    "# join in and out connections with all_vertices\n",
    "all_vertices = all_vertices.join(out_vertices, on=\"id\", how=\"outer\")\n",
    "all_vertices = all_vertices.join(in_vertices, on=\"id\", how=\"outer\")\n",
    "\n",
    "# replace missing values with empty lists\n",
    "all_vertices = all_vertices.fillna('in_vertices',[])\n",
    "all_vertices = all_vertices.fillna('out_vertices',[])\n",
    "all_vertices.head(3)"
   ]
  },
  {
   "cell_type": "markdown",
   "metadata": {},
   "source": [
    "Мы получили базовый набор данных - список входящих и исходящих вершин, для каждой вершины. Теперь найдем количества вершин для метрик 1 и 2. Метрики 3 и 4 вы посчитаете сами"
   ]
  },
  {
   "cell_type": "code",
   "execution_count": 18,
   "metadata": {
    "collapsed": true
   },
   "outputs": [],
   "source": [
    "# in_degree - number of users following each vertex\n",
    "all_vertices['in_degree'] = all_vertices[\"in_vertices\"].apply(lambda x: len(x) )\n",
    "\n",
    "# out_degree - number of users each vertex is following\n",
    "all_vertices['out_degree'] = all_vertices[\"out_vertices\"].apply(lambda x: len(x) )"
   ]
  },
  {
   "cell_type": "code",
   "execution_count": 19,
   "metadata": {
    "collapsed": false
   },
   "outputs": [
    {
     "data": {
      "text/html": [
       "<div style=\"max-height:1000px;max-width:1500px;overflow:auto;\"><table frame=\"box\" rules=\"cols\">\n",
       "    <tr>\n",
       "        <th style=\"padding-left: 1em; padding-right: 1em; text-align: center\">id</th>\n",
       "        <th style=\"padding-left: 1em; padding-right: 1em; text-align: center\">out_vertices</th>\n",
       "        <th style=\"padding-left: 1em; padding-right: 1em; text-align: center\">in_vertices</th>\n",
       "        <th style=\"padding-left: 1em; padding-right: 1em; text-align: center\">in_degree</th>\n",
       "        <th style=\"padding-left: 1em; padding-right: 1em; text-align: center\">out_degree</th>\n",
       "    </tr>\n",
       "    <tr>\n",
       "        <td style=\"padding-left: 1em; padding-right: 1em; text-align: center; vertical-align: top\">211023</td>\n",
       "        <td style=\"padding-left: 1em; padding-right: 1em; text-align: center; vertical-align: top\">[57637, 158723, 159269,<br>167594, 254497, 42873, ...</td>\n",
       "        <td style=\"padding-left: 1em; padding-right: 1em; text-align: center; vertical-align: top\">[248527, 62611, 20201,<br>196887, 209072, 233626, ...</td>\n",
       "        <td style=\"padding-left: 1em; padding-right: 1em; text-align: center; vertical-align: top\">12</td>\n",
       "        <td style=\"padding-left: 1em; padding-right: 1em; text-align: center; vertical-align: top\">18</td>\n",
       "    </tr>\n",
       "    <tr>\n",
       "        <td style=\"padding-left: 1em; padding-right: 1em; text-align: center; vertical-align: top\">79732</td>\n",
       "        <td style=\"padding-left: 1em; padding-right: 1em; text-align: center; vertical-align: top\">[52416, 79734, 84908,<br>207839, 211508, 170941, ...</td>\n",
       "        <td style=\"padding-left: 1em; padding-right: 1em; text-align: center; vertical-align: top\">[59638, 177610, 138065,<br>103248, 95872, 156391, ...</td>\n",
       "        <td style=\"padding-left: 1em; padding-right: 1em; text-align: center; vertical-align: top\">19</td>\n",
       "        <td style=\"padding-left: 1em; padding-right: 1em; text-align: center; vertical-align: top\">13</td>\n",
       "    </tr>\n",
       "    <tr>\n",
       "        <td style=\"padding-left: 1em; padding-right: 1em; text-align: center; vertical-align: top\">7899</td>\n",
       "        <td style=\"padding-left: 1em; padding-right: 1em; text-align: center; vertical-align: top\">[196207, 55715, 63347,<br>27312, 7896, 257163, ...</td>\n",
       "        <td style=\"padding-left: 1em; padding-right: 1em; text-align: center; vertical-align: top\">[6150, 8977, 15258,<br>27312, 193079, 7898, ...</td>\n",
       "        <td style=\"padding-left: 1em; padding-right: 1em; text-align: center; vertical-align: top\">9</td>\n",
       "        <td style=\"padding-left: 1em; padding-right: 1em; text-align: center; vertical-align: top\">12</td>\n",
       "    </tr>\n",
       "</table>\n",
       "[3 rows x 5 columns]<br/>\n",
       "</div>"
      ],
      "text/plain": [
       "Columns:\n",
       "\tid\tint\n",
       "\tout_vertices\tlist\n",
       "\tin_vertices\tlist\n",
       "\tin_degree\tint\n",
       "\tout_degree\tint\n",
       "\n",
       "Rows: 3\n",
       "\n",
       "Data:\n",
       "+--------+-------------------------------+-------------------------------+-----------+\n",
       "|   id   |          out_vertices         |          in_vertices          | in_degree |\n",
       "+--------+-------------------------------+-------------------------------+-----------+\n",
       "| 211023 | [57637, 158723, 159269, 16... | [248527, 62611, 20201, 196... |     12    |\n",
       "| 79732  | [52416, 79734, 84908, 2078... | [59638, 177610, 138065, 10... |     19    |\n",
       "|  7899  | [196207, 55715, 63347, 273... | [6150, 8977, 15258, 27312,... |     9     |\n",
       "+--------+-------------------------------+-------------------------------+-----------+\n",
       "+------------+\n",
       "| out_degree |\n",
       "+------------+\n",
       "|     18     |\n",
       "|     13     |\n",
       "|     12     |\n",
       "+------------+\n",
       "[3 rows x 5 columns]"
      ]
     },
     "execution_count": 19,
     "metadata": {},
     "output_type": "execute_result"
    }
   ],
   "source": [
    "all_vertices.head(3)"
   ]
  },
  {
   "cell_type": "markdown",
   "metadata": {},
   "source": [
    "Мы получили характеристики для каждой вершины графа. Так как у нас задача предсказания наличия ребра, мы должны составить описание каждого ребра, используя метрики вершин. После составления характеристик ребер, мы можем перейти к генерации свойств ребер, взяв за основу метрики вершин ребра. Пример метрик для ребер, которые мы можем найти:\n",
    "\n",
    "1. Общие друзья вершин ребра\n",
    "2. Общее количество друзей вершин ребра\n",
    "3. Коэффициенты Жаккара, Пирсона, Адамик - Адара, косинусная мера\n",
    "\n",
    "Данные метрики находятся для каждого списка вершин, пунктов 1 - 4"
   ]
  },
  {
   "cell_type": "code",
   "execution_count": 20,
   "metadata": {
    "collapsed": false
   },
   "outputs": [
    {
     "data": {
      "text/html": [
       "<div style=\"max-height:1000px;max-width:1500px;overflow:auto;\"><table frame=\"box\" rules=\"cols\">\n",
       "    <tr>\n",
       "        <th style=\"padding-left: 1em; padding-right: 1em; text-align: center\">id</th>\n",
       "        <th style=\"padding-left: 1em; padding-right: 1em; text-align: center\">out_vertices</th>\n",
       "        <th style=\"padding-left: 1em; padding-right: 1em; text-align: center\">in_vertices</th>\n",
       "        <th style=\"padding-left: 1em; padding-right: 1em; text-align: center\">in_degree</th>\n",
       "        <th style=\"padding-left: 1em; padding-right: 1em; text-align: center\">out_degree</th>\n",
       "    </tr>\n",
       "    <tr>\n",
       "        <td style=\"padding-left: 1em; padding-right: 1em; text-align: center; vertical-align: top\">211023</td>\n",
       "        <td style=\"padding-left: 1em; padding-right: 1em; text-align: center; vertical-align: top\">[57637, 158723, 159269,<br>167594, 254497, 42873, ...</td>\n",
       "        <td style=\"padding-left: 1em; padding-right: 1em; text-align: center; vertical-align: top\">[248527, 62611, 20201,<br>196887, 209072, 233626, ...</td>\n",
       "        <td style=\"padding-left: 1em; padding-right: 1em; text-align: center; vertical-align: top\">12</td>\n",
       "        <td style=\"padding-left: 1em; padding-right: 1em; text-align: center; vertical-align: top\">18</td>\n",
       "    </tr>\n",
       "    <tr>\n",
       "        <td style=\"padding-left: 1em; padding-right: 1em; text-align: center; vertical-align: top\">79732</td>\n",
       "        <td style=\"padding-left: 1em; padding-right: 1em; text-align: center; vertical-align: top\">[52416, 79734, 84908,<br>207839, 211508, 170941, ...</td>\n",
       "        <td style=\"padding-left: 1em; padding-right: 1em; text-align: center; vertical-align: top\">[59638, 177610, 138065,<br>103248, 95872, 156391, ...</td>\n",
       "        <td style=\"padding-left: 1em; padding-right: 1em; text-align: center; vertical-align: top\">19</td>\n",
       "        <td style=\"padding-left: 1em; padding-right: 1em; text-align: center; vertical-align: top\">13</td>\n",
       "    </tr>\n",
       "    <tr>\n",
       "        <td style=\"padding-left: 1em; padding-right: 1em; text-align: center; vertical-align: top\">7899</td>\n",
       "        <td style=\"padding-left: 1em; padding-right: 1em; text-align: center; vertical-align: top\">[196207, 55715, 63347,<br>27312, 7896, 257163, ...</td>\n",
       "        <td style=\"padding-left: 1em; padding-right: 1em; text-align: center; vertical-align: top\">[6150, 8977, 15258,<br>27312, 193079, 7898, ...</td>\n",
       "        <td style=\"padding-left: 1em; padding-right: 1em; text-align: center; vertical-align: top\">9</td>\n",
       "        <td style=\"padding-left: 1em; padding-right: 1em; text-align: center; vertical-align: top\">12</td>\n",
       "    </tr>\n",
       "    <tr>\n",
       "        <td style=\"padding-left: 1em; padding-right: 1em; text-align: center; vertical-align: top\">25263</td>\n",
       "        <td style=\"padding-left: 1em; padding-right: 1em; text-align: center; vertical-align: top\">[76741, 249001, 6963,<br>49299, 32701, 6965, 6 ...</td>\n",
       "        <td style=\"padding-left: 1em; padding-right: 1em; text-align: center; vertical-align: top\">[38607, 174885, 42349,<br>111709, 6965, 85933] ...</td>\n",
       "        <td style=\"padding-left: 1em; padding-right: 1em; text-align: center; vertical-align: top\">6</td>\n",
       "        <td style=\"padding-left: 1em; padding-right: 1em; text-align: center; vertical-align: top\">9</td>\n",
       "    </tr>\n",
       "    <tr>\n",
       "        <td style=\"padding-left: 1em; padding-right: 1em; text-align: center; vertical-align: top\">87629</td>\n",
       "        <td style=\"padding-left: 1em; padding-right: 1em; text-align: center; vertical-align: top\">[200493, 4221, 238810,<br>2185, 6873, 215835, ...</td>\n",
       "        <td style=\"padding-left: 1em; padding-right: 1em; text-align: center; vertical-align: top\">[76237, 127102, 183942,<br>127101, 150527, 78690, ...</td>\n",
       "        <td style=\"padding-left: 1em; padding-right: 1em; text-align: center; vertical-align: top\">23</td>\n",
       "        <td style=\"padding-left: 1em; padding-right: 1em; text-align: center; vertical-align: top\">11</td>\n",
       "    </tr>\n",
       "    <tr>\n",
       "        <td style=\"padding-left: 1em; padding-right: 1em; text-align: center; vertical-align: top\">43116</td>\n",
       "        <td style=\"padding-left: 1em; padding-right: 1em; text-align: center; vertical-align: top\">[227750, 50536, 115968,<br>43114, 50535, 43113, ...</td>\n",
       "        <td style=\"padding-left: 1em; padding-right: 1em; text-align: center; vertical-align: top\">[43114, 43117, 125134,<br>43113, 50535, 246688, ...</td>\n",
       "        <td style=\"padding-left: 1em; padding-right: 1em; text-align: center; vertical-align: top\">14</td>\n",
       "        <td style=\"padding-left: 1em; padding-right: 1em; text-align: center; vertical-align: top\">10</td>\n",
       "    </tr>\n",
       "    <tr>\n",
       "        <td style=\"padding-left: 1em; padding-right: 1em; text-align: center; vertical-align: top\">144280</td>\n",
       "        <td style=\"padding-left: 1em; padding-right: 1em; text-align: center; vertical-align: top\">[25249, 152258, 32373,<br>152259, 240913, 22436, ...</td>\n",
       "        <td style=\"padding-left: 1em; padding-right: 1em; text-align: center; vertical-align: top\">[152259, 68011, 87269,<br>124943, 156229, 152258, ...</td>\n",
       "        <td style=\"padding-left: 1em; padding-right: 1em; text-align: center; vertical-align: top\">7</td>\n",
       "        <td style=\"padding-left: 1em; padding-right: 1em; text-align: center; vertical-align: top\">9</td>\n",
       "    </tr>\n",
       "    <tr>\n",
       "        <td style=\"padding-left: 1em; padding-right: 1em; text-align: center; vertical-align: top\">238256</td>\n",
       "        <td style=\"padding-left: 1em; padding-right: 1em; text-align: center; vertical-align: top\">[140495, 54402, 233160,<br>232100, 249606, 175756] ...</td>\n",
       "        <td style=\"padding-left: 1em; padding-right: 1em; text-align: center; vertical-align: top\">[176171, 75978, 223179,<br>233160, 232100, 249606] ...</td>\n",
       "        <td style=\"padding-left: 1em; padding-right: 1em; text-align: center; vertical-align: top\">6</td>\n",
       "        <td style=\"padding-left: 1em; padding-right: 1em; text-align: center; vertical-align: top\">6</td>\n",
       "    </tr>\n",
       "    <tr>\n",
       "        <td style=\"padding-left: 1em; padding-right: 1em; text-align: center; vertical-align: top\">62361</td>\n",
       "        <td style=\"padding-left: 1em; padding-right: 1em; text-align: center; vertical-align: top\">[128106, 130685, 70918,<br>70919, 70917, 62359, ...</td>\n",
       "        <td style=\"padding-left: 1em; padding-right: 1em; text-align: center; vertical-align: top\">[159136, 38016, 70919,<br>111341, 62359, 251016, ...</td>\n",
       "        <td style=\"padding-left: 1em; padding-right: 1em; text-align: center; vertical-align: top\">22</td>\n",
       "        <td style=\"padding-left: 1em; padding-right: 1em; text-align: center; vertical-align: top\">10</td>\n",
       "    </tr>\n",
       "    <tr>\n",
       "        <td style=\"padding-left: 1em; padding-right: 1em; text-align: center; vertical-align: top\">5288</td>\n",
       "        <td style=\"padding-left: 1em; padding-right: 1em; text-align: center; vertical-align: top\">[5468, 7373, 239354,<br>2769, 60055, 3077, ...</td>\n",
       "        <td style=\"padding-left: 1em; padding-right: 1em; text-align: center; vertical-align: top\">[1642, 106525, 197361,<br>144609, 74947, 5291, ...</td>\n",
       "        <td style=\"padding-left: 1em; padding-right: 1em; text-align: center; vertical-align: top\">22</td>\n",
       "        <td style=\"padding-left: 1em; padding-right: 1em; text-align: center; vertical-align: top\">10</td>\n",
       "    </tr>\n",
       "</table>\n",
       "[262111 rows x 5 columns]<br/>Note: Only the head of the SFrame is printed.<br/>You can use print_rows(num_rows=m, num_columns=n) to print more rows and columns.\n",
       "</div>"
      ],
      "text/plain": [
       "Columns:\n",
       "\tid\tint\n",
       "\tout_vertices\tlist\n",
       "\tin_vertices\tlist\n",
       "\tin_degree\tint\n",
       "\tout_degree\tint\n",
       "\n",
       "Rows: 262111\n",
       "\n",
       "Data:\n",
       "+--------+-------------------------------+-------------------------------+-----------+\n",
       "|   id   |          out_vertices         |          in_vertices          | in_degree |\n",
       "+--------+-------------------------------+-------------------------------+-----------+\n",
       "| 211023 | [57637, 158723, 159269, 16... | [248527, 62611, 20201, 196... |     12    |\n",
       "| 79732  | [52416, 79734, 84908, 2078... | [59638, 177610, 138065, 10... |     19    |\n",
       "|  7899  | [196207, 55715, 63347, 273... | [6150, 8977, 15258, 27312,... |     9     |\n",
       "| 25263  | [76741, 249001, 6963, 4929... | [38607, 174885, 42349, 111... |     6     |\n",
       "| 87629  | [200493, 4221, 238810, 218... | [76237, 127102, 183942, 12... |     23    |\n",
       "| 43116  | [227750, 50536, 115968, 43... | [43114, 43117, 125134, 431... |     14    |\n",
       "| 144280 | [25249, 152258, 32373, 152... | [152259, 68011, 87269, 124... |     7     |\n",
       "| 238256 | [140495, 54402, 233160, 23... | [176171, 75978, 223179, 23... |     6     |\n",
       "| 62361  | [128106, 130685, 70918, 70... | [159136, 38016, 70919, 111... |     22    |\n",
       "|  5288  | [5468, 7373, 239354, 2769,... | [1642, 106525, 197361, 144... |     22    |\n",
       "+--------+-------------------------------+-------------------------------+-----------+\n",
       "+------------+\n",
       "| out_degree |\n",
       "+------------+\n",
       "|     18     |\n",
       "|     13     |\n",
       "|     12     |\n",
       "|     9      |\n",
       "|     11     |\n",
       "|     10     |\n",
       "|     9      |\n",
       "|     6      |\n",
       "|     10     |\n",
       "|     10     |\n",
       "+------------+\n",
       "[262111 rows x 5 columns]\n",
       "Note: Only the head of the SFrame is printed.\n",
       "You can use print_rows(num_rows=m, num_columns=n) to print more rows and columns."
      ]
     },
     "execution_count": 20,
     "metadata": {},
     "output_type": "execute_result"
    }
   ],
   "source": [
    "all_vertices"
   ]
  },
  {
   "cell_type": "code",
   "execution_count": null,
   "metadata": {
    "collapsed": false
   },
   "outputs": [],
   "source": []
  },
  {
   "cell_type": "code",
   "execution_count": 21,
   "metadata": {
    "collapsed": false
   },
   "outputs": [
    {
     "data": {
      "text/html": [
       "<div style=\"max-height:1000px;max-width:1500px;overflow:auto;\"><table frame=\"box\" rules=\"cols\">\n",
       "    <tr>\n",
       "        <th style=\"padding-left: 1em; padding-right: 1em; text-align: center\">src</th>\n",
       "        <th style=\"padding-left: 1em; padding-right: 1em; text-align: center\">dst</th>\n",
       "        <th style=\"padding-left: 1em; padding-right: 1em; text-align: center\">class</th>\n",
       "        <th style=\"padding-left: 1em; padding-right: 1em; text-align: center\">src_out_vertices</th>\n",
       "        <th style=\"padding-left: 1em; padding-right: 1em; text-align: center\">src_in_vertices</th>\n",
       "        <th style=\"padding-left: 1em; padding-right: 1em; text-align: center\">src_in_degree</th>\n",
       "        <th style=\"padding-left: 1em; padding-right: 1em; text-align: center\">src_out_degree</th>\n",
       "    </tr>\n",
       "    <tr>\n",
       "        <td style=\"padding-left: 1em; padding-right: 1em; text-align: center; vertical-align: top\">85973</td>\n",
       "        <td style=\"padding-left: 1em; padding-right: 1em; text-align: center; vertical-align: top\">222440</td>\n",
       "        <td style=\"padding-left: 1em; padding-right: 1em; text-align: center; vertical-align: top\">0</td>\n",
       "        <td style=\"padding-left: 1em; padding-right: 1em; text-align: center; vertical-align: top\">[222440, 105278, 108242,<br>78601, 86709, 139051, ...</td>\n",
       "        <td style=\"padding-left: 1em; padding-right: 1em; text-align: center; vertical-align: top\">[78600, 91407, 60491,<br>209149, 219770, 78603, ...</td>\n",
       "        <td style=\"padding-left: 1em; padding-right: 1em; text-align: center; vertical-align: top\">11</td>\n",
       "        <td style=\"padding-left: 1em; padding-right: 1em; text-align: center; vertical-align: top\">12</td>\n",
       "    </tr>\n",
       "    <tr>\n",
       "        <td style=\"padding-left: 1em; padding-right: 1em; text-align: center; vertical-align: top\">65105</td>\n",
       "        <td style=\"padding-left: 1em; padding-right: 1em; text-align: center; vertical-align: top\">83877</td>\n",
       "        <td style=\"padding-left: 1em; padding-right: 1em; text-align: center; vertical-align: top\">1</td>\n",
       "        <td style=\"padding-left: 1em; padding-right: 1em; text-align: center; vertical-align: top\">[83877, 203461, 124123,<br>122752, 80280, 103289, ...</td>\n",
       "        <td style=\"padding-left: 1em; padding-right: 1em; text-align: center; vertical-align: top\">[118109, 242685, 98498,<br>85386, 83878, 192236, ...</td>\n",
       "        <td style=\"padding-left: 1em; padding-right: 1em; text-align: center; vertical-align: top\">13</td>\n",
       "        <td style=\"padding-left: 1em; padding-right: 1em; text-align: center; vertical-align: top\">10</td>\n",
       "    </tr>\n",
       "    <tr>\n",
       "        <td style=\"padding-left: 1em; padding-right: 1em; text-align: center; vertical-align: top\">55484</td>\n",
       "        <td style=\"padding-left: 1em; padding-right: 1em; text-align: center; vertical-align: top\">109560</td>\n",
       "        <td style=\"padding-left: 1em; padding-right: 1em; text-align: center; vertical-align: top\">0</td>\n",
       "        <td style=\"padding-left: 1em; padding-right: 1em; text-align: center; vertical-align: top\">[109560, 65184, 33504,<br>65183, 9255, 211222, ...</td>\n",
       "        <td style=\"padding-left: 1em; padding-right: 1em; text-align: center; vertical-align: top\">[128052, 153511, 225256,<br>65184, 65183, 33504, ...</td>\n",
       "        <td style=\"padding-left: 1em; padding-right: 1em; text-align: center; vertical-align: top\">9</td>\n",
       "        <td style=\"padding-left: 1em; padding-right: 1em; text-align: center; vertical-align: top\">7</td>\n",
       "    </tr>\n",
       "</table>\n",
       "<table frame=\"box\" rules=\"cols\">\n",
       "    <tr>\n",
       "        <th style=\"padding-left: 1em; padding-right: 1em; text-align: center\">dst_out_vertices</th>\n",
       "        <th style=\"padding-left: 1em; padding-right: 1em; text-align: center\">dst_in_vertices</th>\n",
       "        <th style=\"padding-left: 1em; padding-right: 1em; text-align: center\">dst_in_degree</th>\n",
       "        <th style=\"padding-left: 1em; padding-right: 1em; text-align: center\">dst_out_degree</th>\n",
       "    </tr>\n",
       "    <tr>\n",
       "        <td style=\"padding-left: 1em; padding-right: 1em; text-align: center; vertical-align: top\">[206313, 59295, 222439,<br>219788, 219790, 229674, ...</td>\n",
       "        <td style=\"padding-left: 1em; padding-right: 1em; text-align: center; vertical-align: top\">[85973, 186099, 219790,<br>2659, 229674, 219788, ...</td>\n",
       "        <td style=\"padding-left: 1em; padding-right: 1em; text-align: center; vertical-align: top\">9</td>\n",
       "        <td style=\"padding-left: 1em; padding-right: 1em; text-align: center; vertical-align: top\">8</td>\n",
       "    </tr>\n",
       "    <tr>\n",
       "        <td style=\"padding-left: 1em; padding-right: 1em; text-align: center; vertical-align: top\">[67268, 139453, 85386,<br>101505, 65106, 65107, ...</td>\n",
       "        <td style=\"padding-left: 1em; padding-right: 1em; text-align: center; vertical-align: top\">[65105, 98498, 240944,<br>80280, 182507, 61811, ...</td>\n",
       "        <td style=\"padding-left: 1em; padding-right: 1em; text-align: center; vertical-align: top\">10</td>\n",
       "        <td style=\"padding-left: 1em; padding-right: 1em; text-align: center; vertical-align: top\">12</td>\n",
       "    </tr>\n",
       "    <tr>\n",
       "        <td style=\"padding-left: 1em; padding-right: 1em; text-align: center; vertical-align: top\">[109558, 121728, 83294,<br>84344, 31188, 111226, ...</td>\n",
       "        <td style=\"padding-left: 1em; padding-right: 1em; text-align: center; vertical-align: top\">[55484, 229476, 208893,<br>84344, 121728, 106853, ...</td>\n",
       "        <td style=\"padding-left: 1em; padding-right: 1em; text-align: center; vertical-align: top\">18</td>\n",
       "        <td style=\"padding-left: 1em; padding-right: 1em; text-align: center; vertical-align: top\">16</td>\n",
       "    </tr>\n",
       "</table>\n",
       "[3 rows x 11 columns]<br/>\n",
       "</div>"
      ],
      "text/plain": [
       "Columns:\n",
       "\tsrc\tint\n",
       "\tdst\tint\n",
       "\tclass\tint\n",
       "\tsrc_out_vertices\tlist\n",
       "\tsrc_in_vertices\tlist\n",
       "\tsrc_in_degree\tint\n",
       "\tsrc_out_degree\tint\n",
       "\tdst_out_vertices\tlist\n",
       "\tdst_in_vertices\tlist\n",
       "\tdst_in_degree\tint\n",
       "\tdst_out_degree\tint\n",
       "\n",
       "Rows: 3\n",
       "\n",
       "Data:\n",
       "+-------+--------+-------+-------------------------------+\n",
       "|  src  |  dst   | class |        src_out_vertices       |\n",
       "+-------+--------+-------+-------------------------------+\n",
       "| 85973 | 222440 |   0   | [222440, 105278, 108242, 7... |\n",
       "| 65105 | 83877  |   1   | [83877, 203461, 124123, 12... |\n",
       "| 55484 | 109560 |   0   | [109560, 65184, 33504, 651... |\n",
       "+-------+--------+-------+-------------------------------+\n",
       "+-------------------------------+---------------+----------------+\n",
       "|        src_in_vertices        | src_in_degree | src_out_degree |\n",
       "+-------------------------------+---------------+----------------+\n",
       "| [78600, 91407, 60491, 2091... |       11      |       12       |\n",
       "| [118109, 242685, 98498, 85... |       13      |       10       |\n",
       "| [128052, 153511, 225256, 6... |       9       |       7        |\n",
       "+-------------------------------+---------------+----------------+\n",
       "+-------------------------------+-------------------------------+---------------+\n",
       "|        dst_out_vertices       |        dst_in_vertices        | dst_in_degree |\n",
       "+-------------------------------+-------------------------------+---------------+\n",
       "| [206313, 59295, 222439, 21... | [85973, 186099, 219790, 26... |       9       |\n",
       "| [67268, 139453, 85386, 101... | [65105, 98498, 240944, 802... |       10      |\n",
       "| [109558, 121728, 83294, 84... | [55484, 229476, 208893, 84... |       18      |\n",
       "+-------------------------------+-------------------------------+---------------+\n",
       "+----------------+\n",
       "| dst_out_degree |\n",
       "+----------------+\n",
       "|       8        |\n",
       "|       12       |\n",
       "|       16       |\n",
       "+----------------+\n",
       "[3 rows x 11 columns]"
      ]
     },
     "execution_count": 21,
     "metadata": {},
     "output_type": "execute_result"
    }
   ],
   "source": [
    "edges = edges.join(all_vertices, on={\"src\": \"id\"}, how=\"right\")\n",
    "edges.rename({\"in_vertices\": \"src_in_vertices\", \"out_vertices\": \"src_out_vertices\",\n",
    "                  \"in_degree\": \"src_in_degree\", \"out_degree\": \"src_out_degree\"\n",
    "                 })\n",
    "\n",
    "edges = edges.join(all_vertices, on={\"dst\": \"id\"}, how=\"right\")\n",
    "edges.rename({\"in_vertices\": \"dst_in_vertices\", \"out_vertices\": \"dst_out_vertices\",\n",
    "                  \"in_degree\": \"dst_in_degree\", \"out_degree\": \"dst_out_degree\"})\n",
    "\n",
    "edges.head(3)"
   ]
  },
  {
   "cell_type": "markdown",
   "metadata": {},
   "source": [
    "Найдем пункт 1 - общих друзей для списков вершин из пункта 1. Пункты 2 и 3 вы посчитаете самостоятельно"
   ]
  },
  {
   "cell_type": "code",
   "execution_count": 22,
   "metadata": {
    "collapsed": true
   },
   "outputs": [],
   "source": [
    "def common_friends(u, v, u_neighbors, v_neighbors):\n",
    "    u_neighbors = set(u_neighbors)\n",
    "    if v in u_neighbors:\n",
    "            u_neighbors.remove(v)\n",
    "\n",
    "    v_neighbors = set(v_neighbors)\n",
    "    if u in v_neighbors:\n",
    "        v_neighbors.remove(u)\n",
    "        \n",
    "    return len(u_neighbors & v_neighbors)"
   ]
  },
  {
   "cell_type": "code",
   "execution_count": 23,
   "metadata": {
    "collapsed": false
   },
   "outputs": [],
   "source": [
    "edges['common_in_vertices'] = (edges[['src','dst', 'src_in_vertices', 'dst_in_vertices']]\n",
    "                               .apply(lambda x: common_friends(x['src'], x['dst'],x['src_in_vertices'], x['dst_in_vertices'])))"
   ]
  },
  {
   "cell_type": "code",
   "execution_count": 24,
   "metadata": {
    "collapsed": false
   },
   "outputs": [],
   "source": [
    "edges['common_out_vertices'] = (edges[['src','dst', 'src_out_vertices', 'dst_out_vertices']]\n",
    "                               .apply(lambda x: common_friends(x['src'], x['dst'],x['src_out_vertices'], x['dst_out_vertices'])))"
   ]
  },
  {
   "cell_type": "markdown",
   "metadata": {},
   "source": [
    "Результатом пункта 3 является матрица признаков. Теперь мы готовы занятся настройкой моделей. Главная ваша задача в пункте 3 - подготовить как можно больше качественных признаков, которые могли бы использоваться для настройки модели машинного обучения."
   ]
  },
  {
   "cell_type": "markdown",
   "metadata": {},
   "source": [
    "----\n",
    "### 4. Настройка модели и валидация качества модели - 20 Баллов\n",
    "\n",
    "Исключим подозрительные ребра из рассмотрения, а затем разобьем датасет на 2 части, для обучения и проверки результатов. Настроим базовую модель классификации - логистическую регрессию.\n",
    "Для улучшения качества модели вам предстоит выполнить следующие пункты:\n",
    "\n",
    "1. Кросс - валидация для настройки гиперпараметров модели и регуляризации\n",
    "2. Подбор модели машинного обучения (случайный лес, бустинг, нейронная сеть и т.д.)"
   ]
  },
  {
   "cell_type": "code",
   "execution_count": 25,
   "metadata": {
    "collapsed": false
   },
   "outputs": [
    {
     "name": "stdout",
     "output_type": "stream",
     "text": [
      "(299994, 3)\n"
     ]
    }
   ],
   "source": [
    "susp = gl.SFrame.read_csv('suspicions.csv', delimiter=',', verbose=False)\n",
    "print susp.shape"
   ]
  },
  {
   "cell_type": "code",
   "execution_count": 26,
   "metadata": {
    "collapsed": false
   },
   "outputs": [
    {
     "name": "stdout",
     "output_type": "stream",
     "text": [
      "(2769710, 13)\n",
      "(2769710, 14)\n"
     ]
    }
   ],
   "source": [
    "print edges.shape\n",
    "edges = edges.join(susp, on=['src', 'dst'], how='left')\n",
    "print edges.shape"
   ]
  },
  {
   "cell_type": "code",
   "execution_count": 27,
   "metadata": {
    "collapsed": false
   },
   "outputs": [
    {
     "name": "stdout",
     "output_type": "stream",
     "text": [
      "(2469716, 14) (299994, 14)\n"
     ]
    }
   ],
   "source": [
    "clean_edges = edges[edges['edge_id'] == None]\n",
    "susp_edges = edges[edges['edge_id'] != None]\n",
    "print clean_edges.shape, susp_edges.shape"
   ]
  },
  {
   "cell_type": "code",
   "execution_count": 28,
   "metadata": {
    "collapsed": false
   },
   "outputs": [
    {
     "name": "stdout",
     "output_type": "stream",
     "text": [
      "\n"
     ]
    }
   ],
   "source": [
    "clean_edges.remove_column('edge_id')\n",
    "print"
   ]
  },
  {
   "cell_type": "code",
   "execution_count": 29,
   "metadata": {
    "collapsed": false
   },
   "outputs": [
    {
     "data": {
      "text/html": [
       "<div style=\"max-height:1000px;max-width:1500px;overflow:auto;\"><table frame=\"box\" rules=\"cols\">\n",
       "    <tr>\n",
       "        <th style=\"padding-left: 1em; padding-right: 1em; text-align: center\">src</th>\n",
       "        <th style=\"padding-left: 1em; padding-right: 1em; text-align: center\">dst</th>\n",
       "        <th style=\"padding-left: 1em; padding-right: 1em; text-align: center\">class</th>\n",
       "        <th style=\"padding-left: 1em; padding-right: 1em; text-align: center\">src_out_vertices</th>\n",
       "        <th style=\"padding-left: 1em; padding-right: 1em; text-align: center\">src_in_vertices</th>\n",
       "        <th style=\"padding-left: 1em; padding-right: 1em; text-align: center\">src_in_degree</th>\n",
       "        <th style=\"padding-left: 1em; padding-right: 1em; text-align: center\">src_out_degree</th>\n",
       "    </tr>\n",
       "    <tr>\n",
       "        <td style=\"padding-left: 1em; padding-right: 1em; text-align: center; vertical-align: top\">85973</td>\n",
       "        <td style=\"padding-left: 1em; padding-right: 1em; text-align: center; vertical-align: top\">222440</td>\n",
       "        <td style=\"padding-left: 1em; padding-right: 1em; text-align: center; vertical-align: top\">0</td>\n",
       "        <td style=\"padding-left: 1em; padding-right: 1em; text-align: center; vertical-align: top\">[222440, 105278, 108242,<br>78601, 86709, 139051, ...</td>\n",
       "        <td style=\"padding-left: 1em; padding-right: 1em; text-align: center; vertical-align: top\">[78600, 91407, 60491,<br>209149, 219770, 78603, ...</td>\n",
       "        <td style=\"padding-left: 1em; padding-right: 1em; text-align: center; vertical-align: top\">11</td>\n",
       "        <td style=\"padding-left: 1em; padding-right: 1em; text-align: center; vertical-align: top\">12</td>\n",
       "    </tr>\n",
       "    <tr>\n",
       "        <td style=\"padding-left: 1em; padding-right: 1em; text-align: center; vertical-align: top\">55484</td>\n",
       "        <td style=\"padding-left: 1em; padding-right: 1em; text-align: center; vertical-align: top\">109560</td>\n",
       "        <td style=\"padding-left: 1em; padding-right: 1em; text-align: center; vertical-align: top\">0</td>\n",
       "        <td style=\"padding-left: 1em; padding-right: 1em; text-align: center; vertical-align: top\">[109560, 65184, 33504,<br>65183, 9255, 211222, ...</td>\n",
       "        <td style=\"padding-left: 1em; padding-right: 1em; text-align: center; vertical-align: top\">[128052, 153511, 225256,<br>65184, 65183, 33504, ...</td>\n",
       "        <td style=\"padding-left: 1em; padding-right: 1em; text-align: center; vertical-align: top\">9</td>\n",
       "        <td style=\"padding-left: 1em; padding-right: 1em; text-align: center; vertical-align: top\">7</td>\n",
       "    </tr>\n",
       "    <tr>\n",
       "        <td style=\"padding-left: 1em; padding-right: 1em; text-align: center; vertical-align: top\">133280</td>\n",
       "        <td style=\"padding-left: 1em; padding-right: 1em; text-align: center; vertical-align: top\">201142</td>\n",
       "        <td style=\"padding-left: 1em; padding-right: 1em; text-align: center; vertical-align: top\">0</td>\n",
       "        <td style=\"padding-left: 1em; padding-right: 1em; text-align: center; vertical-align: top\">[201142, 91447, 97429,<br>49871, 133281, 63998, ...</td>\n",
       "        <td style=\"padding-left: 1em; padding-right: 1em; text-align: center; vertical-align: top\">[91446, 133281, 258312,<br>48944, 240490, 138545, ...</td>\n",
       "        <td style=\"padding-left: 1em; padding-right: 1em; text-align: center; vertical-align: top\">11</td>\n",
       "        <td style=\"padding-left: 1em; padding-right: 1em; text-align: center; vertical-align: top\">13</td>\n",
       "    </tr>\n",
       "</table>\n",
       "<table frame=\"box\" rules=\"cols\">\n",
       "    <tr>\n",
       "        <th style=\"padding-left: 1em; padding-right: 1em; text-align: center\">dst_out_vertices</th>\n",
       "        <th style=\"padding-left: 1em; padding-right: 1em; text-align: center\">dst_in_vertices</th>\n",
       "        <th style=\"padding-left: 1em; padding-right: 1em; text-align: center\">dst_in_degree</th>\n",
       "        <th style=\"padding-left: 1em; padding-right: 1em; text-align: center\">dst_out_degree</th>\n",
       "        <th style=\"padding-left: 1em; padding-right: 1em; text-align: center\">common_in_vertices</th>\n",
       "        <th style=\"padding-left: 1em; padding-right: 1em; text-align: center\">common_out_vertices</th>\n",
       "    </tr>\n",
       "    <tr>\n",
       "        <td style=\"padding-left: 1em; padding-right: 1em; text-align: center; vertical-align: top\">[206313, 59295, 222439,<br>219788, 219790, 229674, ...</td>\n",
       "        <td style=\"padding-left: 1em; padding-right: 1em; text-align: center; vertical-align: top\">[85973, 186099, 219790,<br>2659, 229674, 219788, ...</td>\n",
       "        <td style=\"padding-left: 1em; padding-right: 1em; text-align: center; vertical-align: top\">9</td>\n",
       "        <td style=\"padding-left: 1em; padding-right: 1em; text-align: center; vertical-align: top\">8</td>\n",
       "        <td style=\"padding-left: 1em; padding-right: 1em; text-align: center; vertical-align: top\">0</td>\n",
       "        <td style=\"padding-left: 1em; padding-right: 1em; text-align: center; vertical-align: top\">0</td>\n",
       "    </tr>\n",
       "    <tr>\n",
       "        <td style=\"padding-left: 1em; padding-right: 1em; text-align: center; vertical-align: top\">[109558, 121728, 83294,<br>84344, 31188, 111226, ...</td>\n",
       "        <td style=\"padding-left: 1em; padding-right: 1em; text-align: center; vertical-align: top\">[55484, 229476, 208893,<br>84344, 121728, 106853, ...</td>\n",
       "        <td style=\"padding-left: 1em; padding-right: 1em; text-align: center; vertical-align: top\">18</td>\n",
       "        <td style=\"padding-left: 1em; padding-right: 1em; text-align: center; vertical-align: top\">16</td>\n",
       "        <td style=\"padding-left: 1em; padding-right: 1em; text-align: center; vertical-align: top\">0</td>\n",
       "        <td style=\"padding-left: 1em; padding-right: 1em; text-align: center; vertical-align: top\">0</td>\n",
       "    </tr>\n",
       "    <tr>\n",
       "        <td style=\"padding-left: 1em; padding-right: 1em; text-align: center; vertical-align: top\">[247702, 180725, 163054,<br>70289, 241671, 209872, ...</td>\n",
       "        <td style=\"padding-left: 1em; padding-right: 1em; text-align: center; vertical-align: top\">[149672, 133280, 202797,<br>201143, 134125, 209872, ...</td>\n",
       "        <td style=\"padding-left: 1em; padding-right: 1em; text-align: center; vertical-align: top\">13</td>\n",
       "        <td style=\"padding-left: 1em; padding-right: 1em; text-align: center; vertical-align: top\">12</td>\n",
       "        <td style=\"padding-left: 1em; padding-right: 1em; text-align: center; vertical-align: top\">0</td>\n",
       "        <td style=\"padding-left: 1em; padding-right: 1em; text-align: center; vertical-align: top\">0</td>\n",
       "    </tr>\n",
       "</table>\n",
       "[3 rows x 13 columns]<br/>\n",
       "</div>"
      ],
      "text/plain": [
       "Columns:\n",
       "\tsrc\tint\n",
       "\tdst\tint\n",
       "\tclass\tint\n",
       "\tsrc_out_vertices\tlist\n",
       "\tsrc_in_vertices\tlist\n",
       "\tsrc_in_degree\tint\n",
       "\tsrc_out_degree\tint\n",
       "\tdst_out_vertices\tlist\n",
       "\tdst_in_vertices\tlist\n",
       "\tdst_in_degree\tint\n",
       "\tdst_out_degree\tint\n",
       "\tcommon_in_vertices\tint\n",
       "\tcommon_out_vertices\tint\n",
       "\n",
       "Rows: 3\n",
       "\n",
       "Data:\n",
       "+--------+--------+-------+-------------------------------+\n",
       "|  src   |  dst   | class |        src_out_vertices       |\n",
       "+--------+--------+-------+-------------------------------+\n",
       "| 85973  | 222440 |   0   | [222440, 105278, 108242, 7... |\n",
       "| 55484  | 109560 |   0   | [109560, 65184, 33504, 651... |\n",
       "| 133280 | 201142 |   0   | [201142, 91447, 97429, 498... |\n",
       "+--------+--------+-------+-------------------------------+\n",
       "+-------------------------------+---------------+----------------+\n",
       "|        src_in_vertices        | src_in_degree | src_out_degree |\n",
       "+-------------------------------+---------------+----------------+\n",
       "| [78600, 91407, 60491, 2091... |       11      |       12       |\n",
       "| [128052, 153511, 225256, 6... |       9       |       7        |\n",
       "| [91446, 133281, 258312, 48... |       11      |       13       |\n",
       "+-------------------------------+---------------+----------------+\n",
       "+-------------------------------+-------------------------------+---------------+\n",
       "|        dst_out_vertices       |        dst_in_vertices        | dst_in_degree |\n",
       "+-------------------------------+-------------------------------+---------------+\n",
       "| [206313, 59295, 222439, 21... | [85973, 186099, 219790, 26... |       9       |\n",
       "| [109558, 121728, 83294, 84... | [55484, 229476, 208893, 84... |       18      |\n",
       "| [247702, 180725, 163054, 7... | [149672, 133280, 202797, 2... |       13      |\n",
       "+-------------------------------+-------------------------------+---------------+\n",
       "+----------------+--------------------+---------------------+\n",
       "| dst_out_degree | common_in_vertices | common_out_vertices |\n",
       "+----------------+--------------------+---------------------+\n",
       "|       8        |         0          |          0          |\n",
       "|       16       |         0          |          0          |\n",
       "|       12       |         0          |          0          |\n",
       "+----------------+--------------------+---------------------+\n",
       "[3 rows x 13 columns]"
      ]
     },
     "execution_count": 29,
     "metadata": {},
     "output_type": "execute_result"
    }
   ],
   "source": [
    "clean_edges.head(3)"
   ]
  },
  {
   "cell_type": "code",
   "execution_count": 30,
   "metadata": {
    "collapsed": true
   },
   "outputs": [],
   "source": [
    "# split on train and test\n",
    "test, train = clean_edges.random_split(0.2)"
   ]
  },
  {
   "cell_type": "code",
   "execution_count": 31,
   "metadata": {
    "collapsed": false
   },
   "outputs": [
    {
     "name": "stdout",
     "output_type": "stream",
     "text": [
      "(494592, 13) (1975124, 13)\n"
     ]
    }
   ],
   "source": [
    "print test.shape, train.shape"
   ]
  },
  {
   "cell_type": "code",
   "execution_count": null,
   "metadata": {
    "collapsed": false,
    "scrolled": false
   },
   "outputs": [
    {
     "name": "stdout",
     "output_type": "stream",
     "text": [
      "PROGRESS: Creating a validation set from 5 percent of training data. This may take a while.\n",
      "          You can set ``validation_set=None`` to disable validation tracking.\n",
      "\n"
     ]
    },
    {
     "data": {
      "text/html": [
       "<pre>Logistic regression:</pre>"
      ],
      "text/plain": [
       "Logistic regression:"
      ]
     },
     "metadata": {},
     "output_type": "display_data"
    },
    {
     "data": {
      "text/html": [
       "<pre>--------------------------------------------------------</pre>"
      ],
      "text/plain": [
       "--------------------------------------------------------"
      ]
     },
     "metadata": {},
     "output_type": "display_data"
    },
    {
     "data": {
      "text/html": [
       "<pre>Number of examples          : 1876653</pre>"
      ],
      "text/plain": [
       "Number of examples          : 1876653"
      ]
     },
     "metadata": {},
     "output_type": "display_data"
    },
    {
     "data": {
      "text/html": [
       "<pre>Number of classes           : 2</pre>"
      ],
      "text/plain": [
       "Number of classes           : 2"
      ]
     },
     "metadata": {},
     "output_type": "display_data"
    },
    {
     "data": {
      "text/html": [
       "<pre>Number of feature columns   : 12</pre>"
      ],
      "text/plain": [
       "Number of feature columns   : 12"
      ]
     },
     "metadata": {},
     "output_type": "display_data"
    },
    {
     "data": {
      "text/html": [
       "<pre>Number of unpacked features : 12</pre>"
      ],
      "text/plain": [
       "Number of unpacked features : 12"
      ]
     },
     "metadata": {},
     "output_type": "display_data"
    },
    {
     "data": {
      "text/html": [
       "<pre>Number of coefficients    : 1048423</pre>"
      ],
      "text/plain": [
       "Number of coefficients    : 1048423"
      ]
     },
     "metadata": {},
     "output_type": "display_data"
    },
    {
     "data": {
      "text/html": [
       "<pre>Starting L-BFGS</pre>"
      ],
      "text/plain": [
       "Starting L-BFGS"
      ]
     },
     "metadata": {},
     "output_type": "display_data"
    },
    {
     "data": {
      "text/html": [
       "<pre>--------------------------------------------------------</pre>"
      ],
      "text/plain": [
       "--------------------------------------------------------"
      ]
     },
     "metadata": {},
     "output_type": "display_data"
    },
    {
     "data": {
      "text/html": [
       "<pre>+-----------+----------+-----------+--------------+-------------------+---------------------+</pre>"
      ],
      "text/plain": [
       "+-----------+----------+-----------+--------------+-------------------+---------------------+"
      ]
     },
     "metadata": {},
     "output_type": "display_data"
    },
    {
     "data": {
      "text/html": [
       "<pre>| Iteration | Passes   | Step size | Elapsed Time | Training-accuracy | Validation-accuracy |</pre>"
      ],
      "text/plain": [
       "| Iteration | Passes   | Step size | Elapsed Time | Training-accuracy | Validation-accuracy |"
      ]
     },
     "metadata": {},
     "output_type": "display_data"
    },
    {
     "data": {
      "text/html": [
       "<pre>+-----------+----------+-----------+--------------+-------------------+---------------------+</pre>"
      ],
      "text/plain": [
       "+-----------+----------+-----------+--------------+-------------------+---------------------+"
      ]
     },
     "metadata": {},
     "output_type": "display_data"
    },
    {
     "data": {
      "text/html": [
       "<pre>| 1         | 4        | 0.000000  | 20.553563    | 0.625115          | 0.611114            |</pre>"
      ],
      "text/plain": [
       "| 1         | 4        | 0.000000  | 20.553563    | 0.625115          | 0.611114            |"
      ]
     },
     "metadata": {},
     "output_type": "display_data"
    },
    {
     "data": {
      "text/html": [
       "<pre>| 2         | 6        | 1.000000  | 27.762031    | 0.769912          | 0.697281            |</pre>"
      ],
      "text/plain": [
       "| 2         | 6        | 1.000000  | 27.762031    | 0.769912          | 0.697281            |"
      ]
     },
     "metadata": {},
     "output_type": "display_data"
    },
    {
     "data": {
      "text/html": [
       "<pre>| 3         | 7        | 1.000000  | 32.186057    | 0.798637          | 0.710636            |</pre>"
      ],
      "text/plain": [
       "| 3         | 7        | 1.000000  | 32.186057    | 0.798637          | 0.710636            |"
      ]
     },
     "metadata": {},
     "output_type": "display_data"
    },
    {
     "data": {
      "text/html": [
       "<pre>| 4         | 8        | 1.000000  | 36.626125    | 0.844066          | 0.743031            |</pre>"
      ],
      "text/plain": [
       "| 4         | 8        | 1.000000  | 36.626125    | 0.844066          | 0.743031            |"
      ]
     },
     "metadata": {},
     "output_type": "display_data"
    }
   ],
   "source": [
    "# fit basic classification model - LR\n",
    "model = gl.classifier.logistic_classifier.create(train, \n",
    "                                                 target=\"class\", \n",
    "                                                 features=[x for x in clean_edges.column_names() if 'class' not in x])\n",
    "results = model.evaluate(test)\n",
    "print results"
   ]
  },
  {
   "cell_type": "markdown",
   "metadata": {},
   "source": [
    "Мы получили базовую модель с метриками: точность ~ 0.67, ROC AUC ~ 0.71. Ваша задача улучшить модель,  за счет добавления новых признаков вершин, ребер и аккуратного обучения выбранных моделей (настройки гиперпараметров и регуляризации)."
   ]
  },
  {
   "cell_type": "markdown",
   "metadata": {},
   "source": [
    "----\n",
    "### 5. Отправка результатов в контест на Kaggle - 20 Баллов\n",
    "\n",
    "\n",
    "Завершая домашнюю работу, нам небходимо предсказать вероятности наличия ребер, для заданного списка ребер. Результат отправлется в контест на kaggle.com в формате: edge_id - probability"
   ]
  },
  {
   "cell_type": "code",
   "execution_count": 34,
   "metadata": {
    "collapsed": false
   },
   "outputs": [
    {
     "ename": "ToolkitError",
     "evalue": "probability is not a valid option for output_type.  Expected one of: class, margin",
     "output_type": "error",
     "traceback": [
      "\u001b[0;31m---------------------------------------------------------------------------\u001b[0m",
      "\u001b[0;31mToolkitError\u001b[0m                              Traceback (most recent call last)",
      "\u001b[0;32m<ipython-input-34-297029f9cf5d>\u001b[0m in \u001b[0;36m<module>\u001b[0;34m()\u001b[0m\n\u001b[0;32m----> 1\u001b[0;31m \u001b[0mpredicted\u001b[0m \u001b[0;34m=\u001b[0m \u001b[0mmodel\u001b[0m\u001b[0;34m.\u001b[0m\u001b[0mpredict\u001b[0m\u001b[0;34m(\u001b[0m\u001b[0msusp_edges\u001b[0m\u001b[0;34m,\u001b[0m \u001b[0moutput_type\u001b[0m\u001b[0;34m=\u001b[0m\u001b[0;34m'probability'\u001b[0m\u001b[0;34m)\u001b[0m\u001b[0;34m\u001b[0m\u001b[0m\n\u001b[0m",
      "\u001b[0;32m/usr/local/lib/python2.7/dist-packages/graphlab/toolkits/classifier/svm_classifier.pyc\u001b[0m in \u001b[0;36mpredict\u001b[0;34m(self, dataset, output_type, missing_value_action)\u001b[0m\n\u001b[1;32m    539\u001b[0m         \u001b[0m_mt\u001b[0m\u001b[0;34m.\u001b[0m\u001b[0m_get_metric_tracker\u001b[0m\u001b[0;34m(\u001b[0m\u001b[0;34m)\u001b[0m\u001b[0;34m.\u001b[0m\u001b[0mtrack\u001b[0m\u001b[0;34m(\u001b[0m\u001b[0;34m'toolkit.classifier.svm_classifier.predict'\u001b[0m\u001b[0;34m)\u001b[0m\u001b[0;34m\u001b[0m\u001b[0m\n\u001b[1;32m    540\u001b[0m         _check_categorical_option_type('output_type', output_type,\n\u001b[0;32m--> 541\u001b[0;31m                                                ['class', 'margin'])\n\u001b[0m\u001b[1;32m    542\u001b[0m         return super(_Classifier, self).predict(dataset,\n\u001b[1;32m    543\u001b[0m                                                 \u001b[0moutput_type\u001b[0m\u001b[0;34m=\u001b[0m\u001b[0moutput_type\u001b[0m\u001b[0;34m,\u001b[0m\u001b[0;34m\u001b[0m\u001b[0m\n",
      "\u001b[0;32m/usr/local/lib/python2.7/dist-packages/graphlab/toolkits/_internal_utils.pyc\u001b[0m in \u001b[0;36m_check_categorical_option_type\u001b[0;34m(option_name, option_value, possible_values)\u001b[0m\n\u001b[1;32m    375\u001b[0m     \u001b[0merr_msg\u001b[0m \u001b[0;34m+=\u001b[0m \u001b[0;34m', '\u001b[0m\u001b[0;34m.\u001b[0m\u001b[0mjoin\u001b[0m\u001b[0;34m(\u001b[0m\u001b[0mmap\u001b[0m\u001b[0;34m(\u001b[0m\u001b[0mstr\u001b[0m\u001b[0;34m,\u001b[0m \u001b[0mpossible_values\u001b[0m\u001b[0;34m)\u001b[0m\u001b[0;34m)\u001b[0m\u001b[0;34m\u001b[0m\u001b[0m\n\u001b[1;32m    376\u001b[0m     \u001b[0;32mif\u001b[0m \u001b[0moption_value\u001b[0m \u001b[0;32mnot\u001b[0m \u001b[0;32min\u001b[0m \u001b[0mpossible_values\u001b[0m\u001b[0;34m:\u001b[0m\u001b[0;34m\u001b[0m\u001b[0m\n\u001b[0;32m--> 377\u001b[0;31m         \u001b[0;32mraise\u001b[0m \u001b[0mToolkitError\u001b[0m\u001b[0;34m(\u001b[0m\u001b[0merr_msg\u001b[0m\u001b[0;34m)\u001b[0m\u001b[0;34m\u001b[0m\u001b[0m\n\u001b[0m\u001b[1;32m    378\u001b[0m \u001b[0;34m\u001b[0m\u001b[0m\n\u001b[1;32m    379\u001b[0m \u001b[0;32mdef\u001b[0m \u001b[0m_raise_error_if_not_sarray\u001b[0m\u001b[0;34m(\u001b[0m\u001b[0mdataset\u001b[0m\u001b[0;34m,\u001b[0m \u001b[0mvariable_name\u001b[0m\u001b[0;34m=\u001b[0m\u001b[0;34m\"SFrame\"\u001b[0m\u001b[0;34m)\u001b[0m\u001b[0;34m:\u001b[0m\u001b[0;34m\u001b[0m\u001b[0m\n",
      "\u001b[0;31mToolkitError\u001b[0m: probability is not a valid option for output_type.  Expected one of: class, margin"
     ]
    }
   ],
   "source": [
    "predicted = model.predict(susp_edges, output_type='probability')"
   ]
  },
  {
   "cell_type": "code",
   "execution_count": 32,
   "metadata": {
    "collapsed": false
   },
   "outputs": [],
   "source": [
    "susp_edges['probability'] = predicted"
   ]
  },
  {
   "cell_type": "code",
   "execution_count": 33,
   "metadata": {
    "collapsed": false
   },
   "outputs": [],
   "source": [
    "result = susp_edges['edge_id', 'probability']"
   ]
  },
  {
   "cell_type": "code",
   "execution_count": 34,
   "metadata": {
    "collapsed": false
   },
   "outputs": [],
   "source": [
    "result.save('result93.csv', format='csv')"
   ]
  },
  {
   "cell_type": "code",
   "execution_count": null,
   "metadata": {
    "collapsed": true
   },
   "outputs": [],
   "source": []
  },
  {
   "cell_type": "code",
   "execution_count": null,
   "metadata": {
    "collapsed": false
   },
   "outputs": [],
   "source": []
  },
  {
   "cell_type": "code",
   "execution_count": null,
   "metadata": {
    "collapsed": true
   },
   "outputs": [],
   "source": []
  },
  {
   "cell_type": "markdown",
   "metadata": {},
   "source": [
    "----"
   ]
  },
  {
   "cell_type": "markdown",
   "metadata": {},
   "source": [
    "----\n",
    "### Не модифицируйте данный код, он для проверки вашего ноутбука"
   ]
  },
  {
   "cell_type": "code",
   "execution_count": 35,
   "metadata": {
    "collapsed": true
   },
   "outputs": [],
   "source": [
    "# from sklearn.metrics import roc_curve, auc\n",
    "# import matplotlib.pyplot as plt\n",
    "\n",
    "# %matplotlib inline"
   ]
  },
  {
   "cell_type": "code",
   "execution_count": 36,
   "metadata": {
    "collapsed": false
   },
   "outputs": [],
   "source": [
    "# labeled = pd.read_csv('labeled_suspicions.csv')\n",
    "# print labeled.shape\n",
    "\n",
    "# res = labeled.merge(result.to_dataframe(), on='edge_id', how='inner')\n",
    "# res = res[['class', 'probability']]\n",
    "# print res.shape"
   ]
  },
  {
   "cell_type": "code",
   "execution_count": 37,
   "metadata": {
    "collapsed": false
   },
   "outputs": [],
   "source": [
    "# fpr, tpr, _ = roc_curve(res['class'], res['probability'])\n",
    "# roc_auc = auc(fpr, tpr)\n",
    "\n",
    "# plt.figure(figsize=(15, 10))\n",
    "# lw = 2\n",
    "# plt.plot(fpr, tpr, color='darkorange', lw=lw, label='ROC curve (area = %0.2f)' % roc_auc)\n",
    "# plt.plot([0, 1], [0, 1], color='navy', lw=lw, linestyle='--')\n",
    "# plt.xlim([0.0, 1.0])\n",
    "# plt.ylim([0.0, 1.05])\n",
    "# plt.xlabel('False Positive Rate')\n",
    "# plt.ylabel('True Positive Rate')\n",
    "# plt.title('Receiver operating characteristic example')\n",
    "# plt.legend(loc=\"lower right\")\n",
    "# plt.show()"
   ]
  },
  {
   "cell_type": "code",
   "execution_count": null,
   "metadata": {
    "collapsed": true
   },
   "outputs": [],
   "source": []
  },
  {
   "cell_type": "code",
   "execution_count": null,
   "metadata": {
    "collapsed": true
   },
   "outputs": [],
   "source": []
  }
 ],
 "metadata": {
  "anaconda-cloud": {},
  "kernelspec": {
   "display_name": "Python 3",
   "language": "python",
   "name": "python3"
  },
  "language_info": {
   "codemirror_mode": {
    "name": "ipython",
    "version": 3
   },
   "file_extension": ".py",
   "mimetype": "text/x-python",
   "name": "python",
   "nbconvert_exporter": "python",
   "pygments_lexer": "ipython3",
   "version": "3.5.2"
  }
 },
 "nbformat": 4,
 "nbformat_minor": 0
}
